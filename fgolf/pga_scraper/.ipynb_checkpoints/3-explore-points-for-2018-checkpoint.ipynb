{
 "cells": [
  {
   "cell_type": "code",
   "execution_count": 37,
   "metadata": {},
   "outputs": [],
   "source": [
    "import requests\n",
    "from collections import defaultdict"
   ]
  },
  {
   "cell_type": "code",
   "execution_count": 36,
   "metadata": {},
   "outputs": [],
   "source": [
    "from owgr_client.client import OwgrClient\n",
    "from owgr_client.constants import BASE_URL\n",
    "from owgr_client.helpers import clean_html\n",
    "from owgr_client.helpers import get_id_from_player_url"
   ]
  },
  {
   "cell_type": "code",
   "execution_count": 28,
   "metadata": {},
   "outputs": [
    {
     "name": "stdout",
     "output_type": "stream",
     "text": [
      "Created OWGR client, for http://www.owgr.com\n"
     ]
    }
   ],
   "source": [
    "c = OwgrClient()"
   ]
  },
  {
   "cell_type": "code",
   "execution_count": 29,
   "metadata": {},
   "outputs": [],
   "source": [
    "events = c.get_events(year=2018)"
   ]
  },
  {
   "cell_type": "code",
   "execution_count": 34,
   "metadata": {},
   "outputs": [
    {
     "data": {
      "text/plain": [
       "{'EventName': 'The RSM Classic',\n",
       " 'EventUrl': '/en/Events/EventResult.aspx?eventid=7261',\n",
       " 'HomeRating': '4',\n",
       " 'PlayerUrl': '/en/Ranking/PlayerProfile.aspx?playerID=6892',\n",
       " 'SoF': '100',\n",
       " 'Tour': 'USA',\n",
       " 'Week': '46',\n",
       " 'Winner': 'Charles Howell III',\n",
       " 'WinnerPoints': '24',\n",
       " 'WorldRating': '96',\n",
       " 'Year': '2018'}"
      ]
     },
     "execution_count": 34,
     "metadata": {},
     "output_type": "execute_result"
    }
   ],
   "source": [
    "events[1]"
   ]
  },
  {
   "cell_type": "code",
   "execution_count": 30,
   "metadata": {},
   "outputs": [],
   "source": [
    "weights = {}\n",
    "for l in open(\"data/2019 draft board for scrape.csv\"):\n",
    "    r = l.strip().split(\",\")\n",
    "    try:\n",
    "        weights[r[1]] = float(r[0])\n",
    "    except:\n",
    "        pass"
   ]
  },
  {
   "cell_type": "code",
   "execution_count": 31,
   "metadata": {},
   "outputs": [],
   "source": [
    "OUR_TOURNEYS = [k for k,v in weights.items()]"
   ]
  },
  {
   "cell_type": "code",
   "execution_count": 32,
   "metadata": {},
   "outputs": [
    {
     "data": {
      "text/plain": [
       "{'100th PGA Championship': 2.0,\n",
       " '147th Open Championship': 2.0,\n",
       " 'A Military Tribute at The Greenbrier': 0.5,\n",
       " 'AT&T Byron Nelson': 1.0,\n",
       " 'AT&T Pebble Beach Pro-Am': 1.0,\n",
       " 'Aberdeen Standard Investments Scottish Open': 1.0,\n",
       " 'Arnold Palmer Invitational presented by Mastercard': 1.0,\n",
       " 'BMW Championship': 1.5,\n",
       " 'BMW PGA CHAMPIONSHIP': 0.5,\n",
       " 'Dell Technologies Championship': 0.5,\n",
       " 'Dubai Duty Free Irish Open Hosted by the Rory Foundation': 1.0,\n",
       " 'FedEx St. Jude Classic': 1.0,\n",
       " 'Fort Worth Invitational': 1.0,\n",
       " 'Genesis Open': 1.0,\n",
       " 'HOLD FOR ZURICH': 0.0,\n",
       " 'Houston Open': 0.5,\n",
       " 'John Deere Classic': 1.0,\n",
       " 'Masters Tournament': 2.0,\n",
       " 'RBC Canadian Open': 1.0,\n",
       " 'RBC Heritage': 1.0,\n",
       " 'THE PLAYERS Championship': 1.5,\n",
       " 'TOUR Championship': 1.5,\n",
       " 'The Honda Classic': 1.0,\n",
       " 'The Northern Trust': 1.0,\n",
       " 'Travelers Championship': 1.0,\n",
       " 'U.S. Open': 2.0,\n",
       " 'Valspar Championship': 1.0,\n",
       " 'WGC - Bridgestone Invitational': 1.0,\n",
       " 'WGC - Dell Technologies Match Play': 1.0,\n",
       " 'WGC - Mexico Championship': 1.5,\n",
       " 'Waste Management Phoenix Open': 1.0,\n",
       " 'Wells Fargo Championship': 1.0,\n",
       " 'Wyndham Championship': 1.0,\n",
       " 'the Memorial Tournament presented by Nationwide': 1.0}"
      ]
     },
     "execution_count": 32,
     "metadata": {},
     "output_type": "execute_result"
    }
   ],
   "source": [
    "weights"
   ]
  },
  {
   "cell_type": "code",
   "execution_count": 42,
   "metadata": {},
   "outputs": [
    {
     "name": "stdout",
     "output_type": "stream",
     "text": [
      "TOUR Championship\n",
      "/en/Events/EventResult.aspx?eventid=7191\n"
     ]
    },
    {
     "ename": "AttributeError",
     "evalue": "'NoneType' object has no attribute 'group'",
     "output_type": "error",
     "traceback": [
      "\u001b[0;31m---------------------------------------------------------------------------\u001b[0m",
      "\u001b[0;31mAttributeError\u001b[0m                            Traceback (most recent call last)",
      "\u001b[0;32m<ipython-input-42-5496d0268f0b>\u001b[0m in \u001b[0;36m<module>\u001b[0;34m()\u001b[0m\n\u001b[1;32m     10\u001b[0m         \u001b[0mresults\u001b[0m \u001b[0;34m=\u001b[0m \u001b[0mc\u001b[0m\u001b[0;34m.\u001b[0m\u001b[0mget_results_for_event_by_id\u001b[0m\u001b[0;34m(\u001b[0m\u001b[0mi\u001b[0m\u001b[0;34m)\u001b[0m\u001b[0;34m\u001b[0m\u001b[0m\n\u001b[1;32m     11\u001b[0m         \u001b[0;32mfor\u001b[0m \u001b[0mel\u001b[0m \u001b[0;32min\u001b[0m \u001b[0mresults\u001b[0m\u001b[0;34m:\u001b[0m\u001b[0;34m\u001b[0m\u001b[0m\n\u001b[0;32m---> 12\u001b[0;31m             \u001b[0mi\u001b[0m \u001b[0;34m=\u001b[0m \u001b[0mget_id_from_player_url\u001b[0m\u001b[0;34m(\u001b[0m\u001b[0mel\u001b[0m\u001b[0;34m[\u001b[0m\u001b[0;34m\"PlayerUrl\"\u001b[0m\u001b[0;34m]\u001b[0m\u001b[0;34m)\u001b[0m\u001b[0;34m\u001b[0m\u001b[0m\n\u001b[0m\u001b[1;32m     13\u001b[0m             \u001b[0;32mif\u001b[0m \u001b[0mi\u001b[0m \u001b[0;32mnot\u001b[0m \u001b[0;32min\u001b[0m \u001b[0mplayer_id_to_name\u001b[0m\u001b[0;34m:\u001b[0m\u001b[0;34m\u001b[0m\u001b[0m\n\u001b[1;32m     14\u001b[0m                 \u001b[0mplayer_id_to_name\u001b[0m\u001b[0;34m[\u001b[0m\u001b[0mi\u001b[0m\u001b[0;34m]\u001b[0m \u001b[0;34m=\u001b[0m \u001b[0mel\u001b[0m\u001b[0;34m[\u001b[0m\u001b[0;34m\"Name\"\u001b[0m\u001b[0;34m]\u001b[0m\u001b[0;34m\u001b[0m\u001b[0m\n",
      "\u001b[0;32m~/fun/owgr_client/src/owgr_client/helpers.py\u001b[0m in \u001b[0;36mget_id_from_player_url\u001b[0;34m(player_url)\u001b[0m\n\u001b[1;32m     10\u001b[0m     \u001b[0mr\u001b[0m \u001b[0;34m=\u001b[0m \u001b[0mre\u001b[0m\u001b[0;34m.\u001b[0m\u001b[0mcompile\u001b[0m\u001b[0;34m(\u001b[0m\u001b[0;34m\"\\d+\"\u001b[0m\u001b[0;34m)\u001b[0m\u001b[0;34m\u001b[0m\u001b[0m\n\u001b[1;32m     11\u001b[0m     \u001b[0mm\u001b[0m \u001b[0;34m=\u001b[0m \u001b[0mre\u001b[0m\u001b[0;34m.\u001b[0m\u001b[0msearch\u001b[0m\u001b[0;34m(\u001b[0m\u001b[0mr\u001b[0m\u001b[0;34m,\u001b[0m \u001b[0mplayer_url\u001b[0m\u001b[0;34m)\u001b[0m\u001b[0;34m\u001b[0m\u001b[0m\n\u001b[0;32m---> 12\u001b[0;31m     \u001b[0;32mreturn\u001b[0m \u001b[0mm\u001b[0m\u001b[0;34m.\u001b[0m\u001b[0mgroup\u001b[0m\u001b[0;34m(\u001b[0m\u001b[0;36m0\u001b[0m\u001b[0;34m)\u001b[0m\u001b[0;34m\u001b[0m\u001b[0m\n\u001b[0m\u001b[1;32m     13\u001b[0m \u001b[0;34m\u001b[0m\u001b[0m\n\u001b[1;32m     14\u001b[0m \u001b[0;32mdef\u001b[0m \u001b[0mget_id_from_url\u001b[0m\u001b[0;34m(\u001b[0m\u001b[0murl\u001b[0m\u001b[0;34m)\u001b[0m\u001b[0;34m:\u001b[0m\u001b[0;34m\u001b[0m\u001b[0m\n",
      "\u001b[0;31mAttributeError\u001b[0m: 'NoneType' object has no attribute 'group'"
     ]
    }
   ],
   "source": [
    "player_id_to_name = {}\n",
    "player_id_to_standings = defaultdict(list)\n",
    "\n",
    "for event in events:\n",
    "    if event[\"EventName\"] in OUR_TOURNEYS:\n",
    "        w = weights[event[\"EventName\"]]\n",
    "        print(event[\"EventName\"])\n",
    "        print(event[\"EventUrl\"])\n",
    "        i = \n",
    "        results = c.get_results_for_event_by_id(get_id_from_player_url(event[\"EventUrl\"]))\n",
    "        for el in results:\n",
    "            i = get_id_from_player_url(el[\"PlayerUrl\"])\n",
    "            if i not in player_id_to_name:\n",
    "                player_id_to_name[i] = el[\"Name\"]\n",
    "            player_id_to_standings[i].append((el[\"Pos\"], w))"
   ]
  },
  {
   "cell_type": "code",
   "execution_count": null,
   "metadata": {},
   "outputs": [],
   "source": []
  },
  {
   "cell_type": "code",
   "execution_count": null,
   "metadata": {},
   "outputs": [],
   "source": []
  },
  {
   "cell_type": "code",
   "execution_count": null,
   "metadata": {},
   "outputs": [],
   "source": []
  },
  {
   "cell_type": "code",
   "execution_count": null,
   "metadata": {},
   "outputs": [],
   "source": []
  },
  {
   "cell_type": "code",
   "execution_count": null,
   "metadata": {},
   "outputs": [],
   "source": []
  },
  {
   "cell_type": "code",
   "execution_count": null,
   "metadata": {},
   "outputs": [],
   "source": []
  },
  {
   "cell_type": "code",
   "execution_count": null,
   "metadata": {},
   "outputs": [],
   "source": []
  },
  {
   "cell_type": "code",
   "execution_count": null,
   "metadata": {},
   "outputs": [],
   "source": []
  },
  {
   "cell_type": "code",
   "execution_count": null,
   "metadata": {},
   "outputs": [],
   "source": []
  },
  {
   "cell_type": "code",
   "execution_count": null,
   "metadata": {},
   "outputs": [],
   "source": []
  },
  {
   "cell_type": "code",
   "execution_count": null,
   "metadata": {},
   "outputs": [],
   "source": []
  },
  {
   "cell_type": "code",
   "execution_count": null,
   "metadata": {},
   "outputs": [],
   "source": []
  },
  {
   "cell_type": "code",
   "execution_count": null,
   "metadata": {},
   "outputs": [],
   "source": []
  }
 ],
 "metadata": {
  "kernelspec": {
   "display_name": "Python 3",
   "language": "python",
   "name": "python3"
  },
  "language_info": {
   "codemirror_mode": {
    "name": "ipython",
    "version": 3
   },
   "file_extension": ".py",
   "mimetype": "text/x-python",
   "name": "python",
   "nbconvert_exporter": "python",
   "pygments_lexer": "ipython3",
   "version": "3.7.0"
  }
 },
 "nbformat": 4,
 "nbformat_minor": 2
}

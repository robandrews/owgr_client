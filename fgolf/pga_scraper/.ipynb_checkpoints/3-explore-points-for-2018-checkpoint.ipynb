{
 "cells": [
  {
   "cell_type": "code",
   "execution_count": 1,
   "metadata": {},
   "outputs": [],
   "source": [
    "import requests\n",
    "from collections import defaultdict"
   ]
  },
  {
   "cell_type": "code",
   "execution_count": 2,
   "metadata": {},
   "outputs": [],
   "source": [
    "from owgr_client.client import OwgrClient\n",
    "from owgr_client.constants import BASE_URL\n",
    "from owgr_client.helpers import clean_html\n",
    "from owgr_client.helpers import get_id_from_player_url"
   ]
  },
  {
   "cell_type": "code",
   "execution_count": 3,
   "metadata": {},
   "outputs": [
    {
     "name": "stdout",
     "output_type": "stream",
     "text": [
      "Created OWGR client, for http://www.owgr.com\n"
     ]
    }
   ],
   "source": [
    "c = OwgrClient()"
   ]
  },
  {
   "cell_type": "code",
   "execution_count": 4,
   "metadata": {},
   "outputs": [],
   "source": [
    "events = c.get_events(year=2018)"
   ]
  },
  {
   "cell_type": "code",
   "execution_count": null,
   "metadata": {},
   "outputs": [
    {
     "data": {
      "text/plain": [
       "{'EventName': 'Hero World Challenge',\n",
       " 'EventUrl': '/en/Events/EventResult.aspx?eventid=7272',\n",
       " 'HomeRating': '-',\n",
       " 'PlayerUrl': '/en/Ranking/PlayerProfile.aspx?playerID=19195',\n",
       " 'SoF': '303',\n",
       " 'Tour': 'USA',\n",
       " 'Week': '48',\n",
       " 'Winner': 'Jon Rahm',\n",
       " 'WinnerPoints': '48',\n",
       " 'WorldRating': '303',\n",
       " 'Year': '2018'}"
      ]
     },
     "execution_count": 5,
     "metadata": {},
     "output_type": "execute_result"
    }
   ],
   "source": [
    "events[1]"
   ]
  },
  {
   "cell_type": "code",
   "execution_count": null,
   "metadata": {},
   "outputs": [],
   "source": [
    "weights = {}\n",
    "for l in open(\"data/2019 draft board for scrape.csv\"):\n",
    "    r = l.strip().split(\",\")\n",
    "    try:\n",
    "        weights[r[1]] = float(r[0])\n",
    "    except:\n",
    "        pass"
   ]
  },
  {
   "cell_type": "code",
   "execution_count": null,
   "metadata": {},
   "outputs": [],
   "source": [
    "OUR_TOURNEYS = [k for k,v in weights.items()]"
   ]
  },
  {
   "cell_type": "code",
   "execution_count": null,
   "metadata": {},
   "outputs": [
    {
     "data": {
      "text/plain": [
       "{'100th PGA Championship': 2.0,\n",
       " '147th Open Championship': 2.0,\n",
       " 'A Military Tribute at The Greenbrier': 0.5,\n",
       " 'AT&T Byron Nelson': 1.0,\n",
       " 'AT&T Pebble Beach Pro-Am': 1.0,\n",
       " 'Aberdeen Standard Investments Scottish Open': 1.0,\n",
       " 'Arnold Palmer Invitational presented by Mastercard': 1.0,\n",
       " 'BMW Championship': 1.5,\n",
       " 'BMW PGA CHAMPIONSHIP': 0.5,\n",
       " 'Dell Technologies Championship': 0.5,\n",
       " 'Dubai Duty Free Irish Open Hosted by the Rory Foundation': 1.0,\n",
       " 'FedEx St. Jude Classic': 1.0,\n",
       " 'Fort Worth Invitational': 1.0,\n",
       " 'Genesis Open': 1.0,\n",
       " 'HOLD FOR ZURICH': 0.0,\n",
       " 'Houston Open': 0.5,\n",
       " 'John Deere Classic': 1.0,\n",
       " 'Masters Tournament': 2.0,\n",
       " 'RBC Canadian Open': 1.0,\n",
       " 'RBC Heritage': 1.0,\n",
       " 'THE PLAYERS Championship': 1.5,\n",
       " 'TOUR Championship': 1.5,\n",
       " 'The Honda Classic': 1.0,\n",
       " 'The Northern Trust': 1.0,\n",
       " 'Travelers Championship': 1.0,\n",
       " 'U.S. Open': 2.0,\n",
       " 'Valspar Championship': 1.0,\n",
       " 'WGC - Bridgestone Invitational': 1.0,\n",
       " 'WGC - Dell Technologies Match Play': 1.0,\n",
       " 'WGC - Mexico Championship': 1.5,\n",
       " 'Waste Management Phoenix Open': 1.0,\n",
       " 'Wells Fargo Championship': 1.0,\n",
       " 'Wyndham Championship': 1.0,\n",
       " 'the Memorial Tournament presented by Nationwide': 1.0}"
      ]
     },
     "execution_count": 8,
     "metadata": {},
     "output_type": "execute_result"
    }
   ],
   "source": [
    "weights"
   ]
  },
  {
   "cell_type": "code",
   "execution_count": null,
   "metadata": {
    "scrolled": true
   },
   "outputs": [
    {
     "name": "stdout",
     "output_type": "stream",
     "text": [
      "TOUR Championship\n",
      "/en/Events/EventResult.aspx?eventid=7191\n",
      "BMW Championship\n",
      "/en/Events/EventResult.aspx?eventid=7171\n",
      "Dell Technologies Championship\n",
      "/en/Events/EventResult.aspx?eventid=7160\n",
      "The Northern Trust\n",
      "/en/Events/EventResult.aspx?eventid=7150\n",
      "Wyndham Championship\n",
      "/en/Events/EventResult.aspx?eventid=7136\n",
      "100th PGA Championship\n",
      "/en/Events/EventResult.aspx?eventid=7125\n",
      "WGC - Bridgestone Invitational\n",
      "/en/Events/EventResult.aspx?eventid=7115\n",
      "RBC Canadian Open\n",
      "/en/Events/EventResult.aspx?eventid=7106\n",
      "147th Open Championship\n",
      "/en/Events/EventResult.aspx?eventid=7094\n",
      "John Deere Classic\n",
      "/en/Events/EventResult.aspx?eventid=7084\n",
      "A Military Tribute at The Greenbrier\n",
      "/en/Events/EventResult.aspx?eventid=7070\n",
      "Travelers Championship\n",
      "/en/Events/EventResult.aspx?eventid=7048\n",
      "U.S. Open\n",
      "/en/Events/EventResult.aspx?eventid=7040\n",
      "FedEx St. Jude Classic\n",
      "/en/Events/EventResult.aspx?eventid=7027\n",
      "the Memorial Tournament presented by Nationwide\n",
      "/en/Events/EventResult.aspx?eventid=7015\n",
      "Fort Worth Invitational\n",
      "/en/Events/EventResult.aspx?eventid=7005\n",
      "AT&T Byron Nelson\n",
      "/en/Events/EventResult.aspx?eventid=6993\n",
      "THE PLAYERS Championship\n",
      "/en/Events/EventResult.aspx?eventid=6979\n",
      "Wells Fargo Championship\n",
      "/en/Events/EventResult.aspx?eventid=6972\n",
      "RBC Heritage\n",
      "/en/Events/EventResult.aspx?eventid=6946\n",
      "Masters Tournament\n",
      "/en/Events/EventResult.aspx?eventid=6943\n",
      "Houston Open\n",
      "/en/Events/EventResult.aspx?eventid=6938\n",
      "WGC - Dell Technologies Match Play\n",
      "/en/Events/EventResult.aspx?eventid=6930\n",
      "Arnold Palmer Invitational presented by Mastercard\n",
      "/en/Events/EventResult.aspx?eventid=6926\n",
      "Valspar Championship\n",
      "/en/Events/EventResult.aspx?eventid=6921\n",
      "WGC - Mexico Championship\n",
      "/en/Events/EventResult.aspx?eventid=6913\n",
      "The Honda Classic\n",
      "/en/Events/EventResult.aspx?eventid=6907\n"
     ]
    }
   ],
   "source": [
    "player_id_to_name = {}\n",
    "player_id_to_standings = defaultdict(list)\n",
    "\n",
    "for event in events:\n",
    "    if event[\"EventName\"] in OUR_TOURNEYS:\n",
    "        w = weights[event[\"EventName\"]]\n",
    "        print(event[\"EventName\"])\n",
    "        print(event[\"EventUrl\"])\n",
    "        results = c.get_results_for_event_by_id(get_id_from_player_url(event[\"EventUrl\"]))\n",
    "        for el in results:\n",
    "#             print(el)\n",
    "            try:\n",
    "                i = get_id_from_player_url(el[\"PlayerUrl\"])\n",
    "                if i not in player_id_to_name:\n",
    "                    player_id_to_name[i] = el[\"Name\"]\n",
    "                player_id_to_standings[i].append((el[\"Pos\"], w))\n",
    "            except Exception:\n",
    "#                 print(\"Skipping: \", el)\n",
    "                pass"
   ]
  },
  {
   "cell_type": "code",
   "execution_count": null,
   "metadata": {},
   "outputs": [],
   "source": [
    "results"
   ]
  },
  {
   "cell_type": "code",
   "execution_count": null,
   "metadata": {},
   "outputs": [],
   "source": [
    "rounds = [\"R1\", \"R2\", \"R3\", \"R4\"]\n",
    "mins = [99,99,99,99]\n",
    "for el in results:\n",
    "    for idx, r in enumerate(rounds):\n",
    "        try:\n",
    "            score = int(el[r])\n",
    "            if score < mins[idx]:\n",
    "                mins[idx] = score\n",
    "        except ValueError as ex:\n",
    "            # we expect a certain amount of bad ints like '-'\n",
    "            pass\n",
    "        except Exception as ex:\n",
    "            raise ex\n",
    "\n",
    "print(mins)"
   ]
  },
  {
   "cell_type": "code",
   "execution_count": null,
   "metadata": {},
   "outputs": [],
   "source": [
    "from owgr_client.models.owgr_leaderboard import OwgrLeaderboard"
   ]
  },
  {
   "cell_type": "code",
   "execution_count": null,
   "metadata": {},
   "outputs": [],
   "source": [
    "l = OwgrLeaderboard(results)"
   ]
  },
  {
   "cell_type": "code",
   "execution_count": null,
   "metadata": {},
   "outputs": [],
   "source": [
    "l._calculate_row_rounds()"
   ]
  },
  {
   "cell_type": "code",
   "execution_count": null,
   "metadata": {},
   "outputs": [],
   "source": [
    "results"
   ]
  },
  {
   "cell_type": "code",
   "execution_count": null,
   "metadata": {},
   "outputs": [],
   "source": [
    "import re\n",
    "m = re.search(\"\\d+\", results[2][\"Pos\"])"
   ]
  },
  {
   "cell_type": "code",
   "execution_count": null,
   "metadata": {},
   "outputs": [],
   "source": [
    "int(m.group(0))"
   ]
  },
  {
   "cell_type": "code",
   "execution_count": null,
   "metadata": {},
   "outputs": [],
   "source": [
    "l.fantasy_leaderboard()"
   ]
  },
  {
   "cell_type": "code",
   "execution_count": null,
   "metadata": {},
   "outputs": [],
   "source": []
  },
  {
   "cell_type": "code",
   "execution_count": null,
   "metadata": {},
   "outputs": [],
   "source": []
  }
 ],
 "metadata": {
  "kernelspec": {
   "display_name": "Python 3",
   "language": "python",
   "name": "python3"
  },
  "language_info": {
   "codemirror_mode": {
    "name": "ipython",
    "version": 3
   },
   "file_extension": ".py",
   "mimetype": "text/x-python",
   "name": "python",
   "nbconvert_exporter": "python",
   "pygments_lexer": "ipython3",
   "version": "3.7.0"
  }
 },
 "nbformat": 4,
 "nbformat_minor": 2
}
